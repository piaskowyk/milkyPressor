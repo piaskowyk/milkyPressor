{
 "cells": [
  {
   "cell_type": "code",
   "execution_count": 8,
   "metadata": {},
   "outputs": [],
   "source": [
    "import time\n",
    "from src.method_selector import MlMethodSelector, ClassicMethodSelector\n",
    "from src.measurement_provider import MeasurementProvider\n",
    "from src.serializer import SenMLCBORSerializer, SenMLJSONSerializer\n",
    "from src.signal_generator import SignalGenerator\n",
    "from sys import getsizeof\n",
    "from src.metric import FeatureMetricEnum, SimilarityMetricEnum\n",
    "from src.data_type import Measurement\n",
    "import pandas as pd\n",
    "import matplotlib as plt\n",
    "from src.metric import SimilarityMetricEnum\n",
    "plt.rcParams[\"figure.dpi\"] = 100"
   ]
  },
  {
   "cell_type": "code",
   "execution_count": null,
   "metadata": {},
   "outputs": [],
   "source": [
    "for datasize in [i * 100 for i in range(11)]:\n",
    "  dataset = []\n",
    "  getsizeof(SenMLCBORSerializer.serialize(dataset, '/72/', '1/2', metrics))\n",
    "  getsizeof(SenMLJSONSerializer.serialize(dataset, '/72/', '1/2', metrics))"
   ]
  },
  {
   "cell_type": "code",
   "execution_count": null,
   "metadata": {},
   "outputs": [],
   "source": [
    "pd.DataFrame.from_dict()"
   ]
  }
 ],
 "metadata": {
  "interpreter": {
   "hash": "617200769ce879efa1ebdc3ebfdf1b30a3a751f12c1f5537e4552fa514699a70"
  },
  "kernelspec": {
   "display_name": "Python 3.8.9 ('venv': venv)",
   "language": "python",
   "name": "python3"
  },
  "language_info": {
   "codemirror_mode": {
    "name": "ipython",
    "version": 3
   },
   "file_extension": ".py",
   "mimetype": "text/x-python",
   "name": "python",
   "nbconvert_exporter": "python",
   "pygments_lexer": "ipython3",
   "version": "3.8.9"
  },
  "orig_nbformat": 4
 },
 "nbformat": 4,
 "nbformat_minor": 2
}
