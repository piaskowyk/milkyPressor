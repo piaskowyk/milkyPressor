{
 "cells": [
  {
   "cell_type": "code",
   "execution_count": 10,
   "metadata": {},
   "outputs": [],
   "source": [
    "from src.signal_generator import SignalGenerator\n",
    "from src.metrics import Metric\n",
    "from src.data_type import Measurement\n",
    "import matplotlib.pyplot as plt\n",
    "from src.data_compressor.other import CompressNTHS\n",
    "from src.data_compressor.other import CompressMinMax\n",
    "from src.data_compressor.other import CompressPWP\n",
    "from src.data_compressor.pip import CompressPIP_ED\n",
    "from src.data_compressor.pip import CompressPIP_PD\n",
    "from src.data_compressor.pip import CompressPIP_VD\n",
    "from src.data_compressor.paa import CompressPAA\n",
    "from src.data_compressor.paa import CompressPAAVI\n",
    "from src.data_compressor.paa import CompressByChunk\n",
    "from src.data_compressor.pla import CompressAPCADFT\n",
    "from src.data_compressor.pla import CompressAPCAFFT\n",
    "from src.data_compressor.pla import CompressSTC\n",
    "from src.data_compressor.pla import CompressHigherDeriveration\n",
    "from src.data_type import Measurement\n",
    "from src.data_compressor.compressor import Compressor\n",
    "from typing import List, Dict\n",
    "from collections import defaultdict as dict\n",
    "\n",
    "from src.method_selector import AlgorythmSelector"
   ]
  },
  {
   "cell_type": "code",
   "execution_count": 11,
   "metadata": {},
   "outputs": [],
   "source": [
    "import matplotlib.pyplot as plt\n",
    "from typing import List\n",
    "def vizualize(original_data, compressed_data, show_compressed: bool = True, show_interpolation: bool = True):\n",
    "  x_original = [measurement.timestamp for measurement in original_data]\n",
    "  y_original = [measurement.value for measurement in original_data]\n",
    "  plt.figure(dpi=150)\n",
    "  if show_interpolation:\n",
    "      plt.plot(x_original, y_original, 'b')\n",
    "  plt.plot(x_original, y_original, 'bo')\n",
    "  if show_compressed:\n",
    "    x_compressed = [measurement.timestamp for measurement in compressed_data]\n",
    "    y_compressed = [measurement.value for measurement in compressed_data]\n",
    "    if show_interpolation:\n",
    "      plt.plot(x_compressed, y_compressed, 'r')\n",
    "    plt.plot(x_compressed, y_compressed, 'ro')\n",
    "  plt.grid()\n",
    "  plt.show()\n",
    "\n",
    "# vizualize(data, self.metrics_containter._interpolate_data(data, compressed_data))"
   ]
  },
  {
   "cell_type": "code",
   "execution_count": 12,
   "metadata": {},
   "outputs": [],
   "source": [
    "def to_measurements(signal_generator: SignalGenerator) -> List[Measurement]:\n",
    "  return [Measurement(measurement, index * 100) for index, measurement in enumerate(signal_generator.data)]\n",
    "\n",
    "def strip_data(data: List[Measurement]) -> List[float]:\n",
    "  return [item.value for item in data]"
   ]
  },
  {
   "cell_type": "code",
   "execution_count": 13,
   "metadata": {},
   "outputs": [],
   "source": [
    "dataset = []\n",
    "signal_generators = [\n",
    "  SignalGenerator(0, 100).with_peaks(3).with_peaks(3, direction=-1).sin(0.2, 0.2),\n",
    "  SignalGenerator(0, 100).with_peaks(3).with_peaks(3, direction=-1).noise(),\n",
    "  SignalGenerator(0, 100).with_peaks(3).noise(),\n",
    "  SignalGenerator(0, 100).with_peaks(3),\n",
    "  SignalGenerator(0, 100).square_vawe(),\n",
    "  SignalGenerator(0, 100).square_vawe().with_peaks(5),\n",
    "  SignalGenerator(0, 100).square_vawe().with_peaks(5).sin(),\n",
    "  SignalGenerator(0, 100).square_vawe().with_peaks(5).sin().noise(),\n",
    "]\n",
    "\n",
    "for signal_generator in signal_generators:\n",
    "  measurements = to_measurements(signal_generator)\n",
    "  best_method_name = AlgorythmSelector().get_best(measurements)[0].__class__.__name__\n",
    "  dataset.append([strip_data(measurements), best_method_name]) # tu powinny być metryki na wejściu"
   ]
  },
  {
   "cell_type": "code",
   "execution_count": 14,
   "metadata": {},
   "outputs": [
    {
     "name": "stdout",
     "output_type": "stream",
     "text": [
      "Score: 1.0\n"
     ]
    }
   ],
   "source": [
    "from sklearn import tree\n",
    "from fogml.generators import GeneratorFactory\n",
    "\n",
    "dataset_size = len(dataset)\n",
    "\n",
    "X_train = [data for data, label in dataset]\n",
    "y_train = [label for data, label in dataset]\n",
    "\n",
    "X_test = [data for data, label in dataset[:2]]\n",
    "y_test = [label for data, label in dataset[:2]]\n",
    "\n",
    "clf = tree.DecisionTreeClassifier()\n",
    "clf = clf.fit(X_train, y_train)\n",
    "\n",
    "score = clf.score(X_test, y_test)\n",
    "print(f'Score: {score}')\n",
    "\n",
    "factory = GeneratorFactory()\n",
    "generator = factory.get_generator(clf)\n",
    "generator.generate(fname='output.c')"
   ]
  },
  {
   "cell_type": "code",
   "execution_count": null,
   "metadata": {},
   "outputs": [],
   "source": []
  }
 ],
 "metadata": {
  "interpreter": {
   "hash": "8bd398a0bc678e25a207ab0ab4219855af91263f83e538b17778b9131e81637d"
  },
  "kernelspec": {
   "display_name": "Python 3.8.2 ('venv': venv)",
   "language": "python",
   "name": "python3"
  },
  "language_info": {
   "codemirror_mode": {
    "name": "ipython",
    "version": 3
   },
   "file_extension": ".py",
   "mimetype": "text/x-python",
   "name": "python",
   "nbconvert_exporter": "python",
   "pygments_lexer": "ipython3",
   "version": "3.8.9"
  },
  "orig_nbformat": 4
 },
 "nbformat": 4,
 "nbformat_minor": 2
}
