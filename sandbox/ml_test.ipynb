{
 "cells": [
  {
   "cell_type": "code",
   "execution_count": 5,
   "metadata": {},
   "outputs": [],
   "source": [
    "from src.method_selector import MlMethodSelector\n",
    "from src.measurement_provider import MeasurementProvider\n",
    "from src.serializer import SenMLCBORSerializer, SenMLJSONSerializer\n",
    "from sys import getsizeof"
   ]
  },
  {
   "cell_type": "code",
   "execution_count": 6,
   "metadata": {},
   "outputs": [
    {
     "name": "stdout",
     "output_type": "stream",
     "text": [
      "1.0\n"
     ]
    }
   ],
   "source": [
    "method_selector = MlMethodSelector()\n",
    "method_selector.set_measurements()\n",
    "score = method_selector.train()\n",
    "print(score)"
   ]
  },
  {
   "cell_type": "code",
   "execution_count": 7,
   "metadata": {},
   "outputs": [
    {
     "name": "stdout",
     "output_type": "stream",
     "text": [
      "{'original_size': 1000, 'compressed_size': 882, 'compression_rate': 0.118, 'method_name': 'CompressSTC'}\n"
     ]
    }
   ],
   "source": [
    "measurement_provider = MeasurementProvider()\n",
    "dataset = measurement_provider.json_to_measurements('car_engine.json')[:1000]\n",
    "compressed_data, stats = method_selector.compress_with_best(dataset)\n",
    "print(stats)"
   ]
  },
  {
   "cell_type": "code",
   "execution_count": 8,
   "metadata": {},
   "outputs": [
    {
     "name": "stdout",
     "output_type": "stream",
     "text": [
      "20011 17653 2358\n"
     ]
    }
   ],
   "source": [
    "senML_cbor_size_original = getsizeof(SenMLCBORSerializer().serialize(dataset, '/72/', '1/2'))\n",
    "senML_cbor_size_compressed = getsizeof(SenMLCBORSerializer().serialize(compressed_data, '/72/', '1/2'))\n",
    "print(senML_cbor_size_original, senML_cbor_size_compressed, senML_cbor_size_original - senML_cbor_size_compressed)"
   ]
  },
  {
   "cell_type": "code",
   "execution_count": 9,
   "metadata": {},
   "outputs": [
    {
     "name": "stdout",
     "output_type": "stream",
     "text": [
      "52201 46051 6150\n"
     ]
    }
   ],
   "source": [
    "senML_cbor_size_original = getsizeof(SenMLJSONSerializer().serialize(dataset, '/72/', '1/2'))\n",
    "senML_cbor_size_compressed = getsizeof(SenMLJSONSerializer().serialize(compressed_data, '/72/', '1/2'))\n",
    "print(senML_cbor_size_original, senML_cbor_size_compressed, senML_cbor_size_original - senML_cbor_size_compressed)"
   ]
  }
 ],
 "metadata": {
  "interpreter": {
   "hash": "c2ac36ba0c970e5d5d5f3d0bcc0d37acbfde7aff54eb659a62754192ac37a665"
  },
  "kernelspec": {
   "display_name": "Python 3.9.1 64-bit ('venv': venv)",
   "language": "python",
   "name": "python3"
  },
  "language_info": {
   "codemirror_mode": {
    "name": "ipython",
    "version": 3
   },
   "file_extension": ".py",
   "mimetype": "text/x-python",
   "name": "python",
   "nbconvert_exporter": "python",
   "pygments_lexer": "ipython3",
   "version": "3.9.1"
  },
  "orig_nbformat": 4
 },
 "nbformat": 4,
 "nbformat_minor": 2
}
