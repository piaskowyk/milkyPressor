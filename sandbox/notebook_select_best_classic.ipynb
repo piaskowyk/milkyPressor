{
 "cells": [
  {
   "cell_type": "code",
   "execution_count": 1,
   "metadata": {},
   "outputs": [],
   "source": [
    "from src.signal_generator import SignalGenerator\n",
    "from src.metrics import Metric\n",
    "from src.data_type import Measurement\n",
    "import matplotlib.pyplot as plt\n",
    "from src.data_compressor.other import CompressNTHS\n",
    "from src.data_compressor.other import CompressMinMax\n",
    "from src.data_compressor.other import CompressPWP\n",
    "from src.data_compressor.pip import CompressPIP_ED\n",
    "from src.data_compressor.pip import CompressPIP_PD\n",
    "from src.data_compressor.pip import CompressPIP_VD\n",
    "from src.data_compressor.paa import CompressPAA\n",
    "from src.data_compressor.paa import CompressPAAVI\n",
    "from src.data_compressor.paa import CompressByChunk\n",
    "from src.data_compressor.pla import CompressAPCADFT\n",
    "from src.data_compressor.pla import CompressAPCAFFT\n",
    "from src.data_compressor.pla import CompressSTC\n",
    "from src.data_compressor.pla import CompressHigherDeriveration\n",
    "from src.data_type import Measurement\n",
    "from src.data_compressor.compressor import Compressor\n",
    "from typing import List, Dict\n",
    "from collections import defaultdict as dict\n",
    "\n",
    "from src.method_selector import AlgorythmSelector"
   ]
  },
  {
   "cell_type": "code",
   "execution_count": 3,
   "metadata": {},
   "outputs": [],
   "source": [
    "import matplotlib.pyplot as plt\n",
    "from typing import List\n",
    "def vizualize(original_data, compressed_data, show_compressed: bool = True, show_interpolation: bool = True):\n",
    "  x_original = [measurement.timestamp for measurement in original_data]\n",
    "  y_original = [measurement.value for measurement in original_data]\n",
    "  plt.figure(dpi=150)\n",
    "  if show_interpolation:\n",
    "      plt.plot(x_original, y_original, 'b')\n",
    "  plt.plot(x_original, y_original, 'bo')\n",
    "  if show_compressed:\n",
    "    x_compressed = [measurement.timestamp for measurement in compressed_data]\n",
    "    y_compressed = [measurement.value for measurement in compressed_data]\n",
    "    if show_interpolation:\n",
    "      plt.plot(x_compressed, y_compressed, 'r')\n",
    "    plt.plot(x_compressed, y_compressed, 'ro')\n",
    "  plt.grid()\n",
    "  plt.show()\n",
    "\n",
    "# vizualize(data, self.metrics_containter._interpolate_data(data, compressed_data))"
   ]
  },
  {
   "cell_type": "code",
   "execution_count": null,
   "metadata": {},
   "outputs": [],
   "source": [
    "signal_generator = SignalGenerator(0, 100).with_peaks(3).with_peaks(3, direction=-1).sin(0.2, 0.2)\n",
    "measurements = [Measurement(measurement, index * 100) for index, measurement in enumerate(signal_generator.data)]"
   ]
  },
  {
   "cell_type": "code",
   "execution_count": 4,
   "metadata": {},
   "outputs": [
    {
     "data": {
      "text/plain": [
       "<src.data_compressor.pip.compress_pip_pd.CompressPIP_PD at 0x111261d60>"
      ]
     },
     "execution_count": 4,
     "metadata": {},
     "output_type": "execute_result"
    }
   ],
   "source": [
    "AlgorythmSelector().get_best(measurements)"
   ]
  }
 ],
 "metadata": {
  "interpreter": {
   "hash": "8bd398a0bc678e25a207ab0ab4219855af91263f83e538b17778b9131e81637d"
  },
  "kernelspec": {
   "display_name": "Python 3.8.2 ('venv': venv)",
   "language": "python",
   "name": "python3"
  },
  "language_info": {
   "codemirror_mode": {
    "name": "ipython",
    "version": 3
   },
   "file_extension": ".py",
   "mimetype": "text/x-python",
   "name": "python",
   "nbconvert_exporter": "python",
   "pygments_lexer": "ipython3",
   "version": "3.8.9"
  },
  "orig_nbformat": 4
 },
 "nbformat": 4,
 "nbformat_minor": 2
}
