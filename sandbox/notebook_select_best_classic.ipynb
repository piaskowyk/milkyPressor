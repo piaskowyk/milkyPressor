{
 "cells": [
  {
   "cell_type": "code",
   "execution_count": 126,
   "metadata": {},
   "outputs": [],
   "source": [
    "from src.signal_generator import SignalGenerator\n",
    "from src.metrics import Metric\n",
    "from src.data_type import Measurement\n",
    "import matplotlib.pyplot as plt\n",
    "from src.data_compressor.other import CompressNTHS\n",
    "from src.data_compressor.other import CompressMinMax\n",
    "from src.data_compressor.other import CompressPWP\n",
    "from src.data_compressor.pip import CompressPIP_ED\n",
    "from src.data_compressor.pip import CompressPIP_PD\n",
    "from src.data_compressor.pip import CompressPIP_VD\n",
    "from src.data_compressor.paa import CompressPAA\n",
    "from src.data_compressor.paa import CompressPAAVI\n",
    "from src.data_compressor.paa import CompressByChunk\n",
    "from src.data_compressor.pla import CompressAPCADFT\n",
    "from src.data_compressor.pla import CompressAPCAFFT\n",
    "from src.data_compressor.pla import CompressSTC\n",
    "from src.data_compressor.pla import CompressHigherDeriveration"
   ]
  },
  {
   "cell_type": "code",
   "execution_count": 127,
   "metadata": {},
   "outputs": [],
   "source": [
    "from src.data_type import Measurement\n",
    "from src.data_compressor.compressor import Compressor\n",
    "from typing import List, Dict\n",
    "from collections import defaultdict as dict"
   ]
  },
  {
   "cell_type": "code",
   "execution_count": 128,
   "metadata": {},
   "outputs": [],
   "source": [
    "signal_generator = SignalGenerator(0, 100).with_peaks(3).with_peaks(3, direction=-1).sin(0.2, 0.2)\n",
    "measurements = [Measurement(measurement, index * 100) for index, measurement in enumerate(signal_generator.data)]"
   ]
  },
  {
   "cell_type": "code",
   "execution_count": 129,
   "metadata": {},
   "outputs": [],
   "source": [
    "import matplotlib.pyplot as plt\n",
    "from typing import Tuple, Any, List\n",
    "def vizualize(original_data, compressed_data, show_compressed: bool = True, show_interpolation: bool = True):\n",
    "  x_original = [measurement.timestamp for measurement in original_data]\n",
    "  y_original = [measurement.value for measurement in original_data]\n",
    "  plt.figure(dpi=150)\n",
    "  if show_interpolation:\n",
    "      plt.plot(x_original, y_original, 'b')\n",
    "  plt.plot(x_original, y_original, 'bo')\n",
    "  if show_compressed:\n",
    "    x_compressed = [measurement.timestamp for measurement in compressed_data]\n",
    "    y_compressed = [measurement.value for measurement in compressed_data]\n",
    "    if show_interpolation:\n",
    "      plt.plot(x_compressed, y_compressed, 'r')\n",
    "    plt.plot(x_compressed, y_compressed, 'ro')\n",
    "  plt.grid()\n",
    "  plt.show()"
   ]
  },
  {
   "cell_type": "code",
   "execution_count": 130,
   "metadata": {},
   "outputs": [
    {
     "name": "stdout",
     "output_type": "stream",
     "text": [
      "CompressNTHS\n",
      "\tcompression_rate:\t0.35\n",
      "\tsum_differences:\t3.3152032030069503\n",
      "\tarithmetic_average:\t0.0331520320300695\n",
      "\tstandard_derivative:\t0.10380867794406343\n",
      "\tfunction_field:\t0.8662578139139322\n",
      "\tdiff_of_min:\t-0.005541768036727568\n",
      "\tdiff_of_max:\t0.0\n",
      "\tmin_max_diff:\t0.005541768036727568\n",
      "\tvalue_crossing:\t0.35416666666666663\n",
      "\tpositive_value_crossing:\t0.35416666666666663\n",
      "\tnegative_value_crossing:\t0.0\n",
      "\tpeak_count:\t2\n",
      "\tpositive_peak_count:\t0\n",
      "\tnegative_peak_count:\t0\n",
      "\tmedian:\t-0.003336635576042489\n",
      "\tcovariance:\t-0.37330111679278755\n",
      "\tcorelation_pearson:\t-0.15938858164426123\n",
      "\tcorelation_spearman:\t7.002801120448154e-05\n",
      "CompressMinMax\n",
      "\tcompression_rate:\t0.5\n",
      "\tsum_differences:\t2.5065048013717437\n",
      "\tarithmetic_average:\t0.025065048013717436\n",
      "\tstandard_derivative:\t0.07474189397270219\n",
      "\tfunction_field:\t4.419247741670608\n",
      "\tdiff_of_min:\t0.0\n",
      "\tdiff_of_max:\t0.0\n",
      "\tmin_max_diff:\t0.0\n",
      "\tvalue_crossing:\t0.4807692307692307\n",
      "\tpositive_value_crossing:\t0.0\n",
      "\tnegative_value_crossing:\t-23.0\n",
      "\tpeak_count:\t0\n",
      "\tpositive_peak_count:\t0\n",
      "\tnegative_peak_count:\t0\n",
      "\tmedian:\t0.021254044047152067\n",
      "\tcovariance:\t1.0145665669370394\n",
      "\tcorelation_pearson:\t0.21066117973599469\n",
      "\tcorelation_spearman:\t0.0\n"
     ]
    },
    {
     "data": {
      "text/plain": [
       "<src.data_compressor.other.compress_nths.CompressNTHS at 0x1693bba9520>"
      ]
     },
     "execution_count": 130,
     "metadata": {},
     "output_type": "execute_result"
    }
   ],
   "source": [
    "class AlgorythmSelector:\n",
    "\n",
    "  def __init__(self) -> None:\n",
    "    self.metrics_containter = Metric()\n",
    "    self.compressors: Dict[str, Compressor] = {\n",
    "      'CompressNTHS': CompressNTHS(),\n",
    "      'CompressMinMax': CompressMinMax()\n",
    "    }\n",
    "\n",
    "  def set_metrics(self):\n",
    "    pass # todo\n",
    "  \n",
    "  def get_best(self, data: List[Measurement]):\n",
    "    metric_result = dict()\n",
    "    for name, compressor in self.compressors.items():\n",
    "      compressor.set_data(data)\n",
    "      compressor.compress()\n",
    "      compressed_data = compressor.compressed_data\n",
    "      # vizualize(data, self.metrics_containter._interpolate_data(data, compressed_data))\n",
    "      metric_result[name] = {\n",
    "        'compression_rate': self.metrics_containter.compression_ratio(data, compressed_data),\n",
    "        'sum_differences': self.metrics_containter.sum_differences(data, compressed_data),\n",
    "        'arithmetic_average': self.metrics_containter.arithmetic_average(data, compressed_data),\n",
    "        'standard_derivative': self.metrics_containter.standard_derivative(data, compressed_data),\n",
    "        'function_field': self.metrics_containter.function_field(data, compressed_data),\n",
    "        'diff_of_min': self.metrics_containter.diff_of_min(data, compressed_data),\n",
    "        'diff_of_max': self.metrics_containter.diff_of_max(data, compressed_data),\n",
    "        'min_max_diff': self.metrics_containter.min_max_diff(data, compressed_data),\n",
    "        'value_crossing': self.metrics_containter.value_crossing(data, compressed_data),\n",
    "        'positive_value_crossing': self.metrics_containter.positive_value_crossing(data, compressed_data),\n",
    "        'negative_value_crossing': self.metrics_containter.negative_value_crossing(data, compressed_data),\n",
    "        'peak_count': self.metrics_containter.peak_count(data, compressed_data),\n",
    "        'positive_peak_count': self.metrics_containter.positive_peak_count(data, compressed_data),\n",
    "        'negative_peak_count': self.metrics_containter.negative_peak_count(data, compressed_data),\n",
    "        'median': self.metrics_containter.median(data, compressed_data),\n",
    "        'covariance': self.metrics_containter.covariance(data, compressed_data),\n",
    "        'corelation_pearson': self.metrics_containter.corelation_pearson(data, compressed_data),\n",
    "        'corelation_spearman': self.metrics_containter.corelation_spearman(data, compressed_data),\n",
    "      }\n",
    "    for key, metrics in metric_result.items():\n",
    "      print(key)\n",
    "      for name, value in metrics.items():\n",
    "        print(f\"\\t{name}:\\t{value}\")\n",
    "    return list(self.compressors.items())[0][1]\n",
    "\n",
    "AlgorythmSelector().get_best(measurements)"
   ]
  }
 ],
 "metadata": {
  "interpreter": {
   "hash": "8bd398a0bc678e25a207ab0ab4219855af91263f83e538b17778b9131e81637d"
  },
  "kernelspec": {
   "display_name": "Python 3.8.2 ('venv': venv)",
   "language": "python",
   "name": "python3"
  },
  "language_info": {
   "codemirror_mode": {
    "name": "ipython",
    "version": 3
   },
   "file_extension": ".py",
   "mimetype": "text/x-python",
   "name": "python",
   "nbconvert_exporter": "python",
   "pygments_lexer": "ipython3",
   "version": "3.9.1"
  },
  "orig_nbformat": 4
 },
 "nbformat": 4,
 "nbformat_minor": 2
}
