{
 "cells": [
  {
   "cell_type": "code",
   "execution_count": 104,
   "metadata": {},
   "outputs": [],
   "source": [
    "from src.signal_generator import SignalGenerator\n",
    "from src.metrics import Metric\n",
    "from src.data_type import Measurement\n",
    "# import matplotlib.pyplot as plt\n",
    "from src.data_compressor.other import CompressNTHS\n",
    "from src.data_compressor.other import CompressMinMax\n",
    "from src.data_compressor.other import CompressPWP\n",
    "from src.data_compressor.pip import CompressPIP_ED\n",
    "from src.data_compressor.pip import CompressPIP_PD\n",
    "from src.data_compressor.pip import CompressPIP_VD\n",
    "from src.data_compressor.paa import CompressPAA\n",
    "from src.data_compressor.paa import CompressPAAVI\n",
    "from src.data_compressor.paa import CompressByChunk\n",
    "from src.data_compressor.pla import CompressAPCADFT\n",
    "from src.data_compressor.pla import CompressAPCAFFT\n",
    "from src.data_compressor.pla import CompressSTC\n",
    "from src.data_compressor.pla import CompressHigherDeriveration"
   ]
  },
  {
   "cell_type": "code",
   "execution_count": 105,
   "metadata": {},
   "outputs": [],
   "source": [
    "from src.data_type import Measurement\n",
    "from src.data_compressor.compressor import Compressor\n",
    "from typing import List, Dict\n",
    "from collections import defaultdict as dict"
   ]
  },
  {
   "cell_type": "code",
   "execution_count": 106,
   "metadata": {},
   "outputs": [],
   "source": [
    "signal_generator = SignalGenerator(0, 100).with_peaks(3).with_peaks(3, direction=-1).sin(0.2, 0.2)\n",
    "measurements = [Measurement(measurement, index * 100) for index, measurement in enumerate(signal_generator.data)]"
   ]
  },
  {
   "cell_type": "code",
   "execution_count": 107,
   "metadata": {},
   "outputs": [],
   "source": [
    "import matplotlib.pyplot as plt\n",
    "from typing import Tuple, Any, List\n",
    "def vizualize(original_data, compressed_data, show_compressed: bool = True, show_interpolation: bool = True):\n",
    "  x_original = [measurement.timestamp for measurement in original_data]\n",
    "  y_original = [measurement.value for measurement in original_data]\n",
    "  plt.figure(dpi=150)\n",
    "  if show_interpolation:\n",
    "      plt.plot(x_original, y_original, 'b')\n",
    "  plt.plot(x_original, y_original, 'bo')\n",
    "  if show_compressed:\n",
    "    x_compressed = [measurement.timestamp for measurement in compressed_data]\n",
    "    y_compressed = [measurement.value for measurement in compressed_data]\n",
    "    if show_interpolation:\n",
    "      plt.plot(x_compressed, y_compressed, 'r')\n",
    "    plt.plot(x_compressed, y_compressed, 'ro')\n",
    "  plt.grid()\n",
    "  plt.show()"
   ]
  },
  {
   "cell_type": "code",
   "execution_count": 116,
   "metadata": {},
   "outputs": [
    {
     "data": {
      "text/plain": [
       "<src.data_compressor.other.compress_nths.CompressNTHS at 0x10a44e910>"
      ]
     },
     "execution_count": 116,
     "metadata": {},
     "output_type": "execute_result"
    }
   ],
   "source": [
    "class AlgorythmSelector:\n",
    "\n",
    "  def __init__(self) -> None:\n",
    "    self.metrics_containter = Metric()\n",
    "    self.compressors: Dict[str, Compressor] = {\n",
    "      'CompressNTHS': CompressNTHS(),\n",
    "      'CompressMinMax': CompressMinMax()\n",
    "    }\n",
    "\n",
    "  def set_metrics(self):\n",
    "    pass # todo\n",
    "  \n",
    "  def get_best(self, data: List[Measurement]):\n",
    "    metric_result = dict()\n",
    "    for name, compressor in self.compressors.items():\n",
    "      compressor.set_data(data)\n",
    "      compressor.compress()\n",
    "      compressed_data = compressor.compressed_data\n",
    "      # vizualize(data, self.metrics_containter._interpolate_data(data, compressed_data))\n",
    "      metric_result[name] = {\n",
    "        'compression_rate': self.metrics_containter.compression_ratio_score(data, compressed_data) * 2,\n",
    "        'sum_differences': self.metrics_containter.sum_differences_score(data, compressed_data),\n",
    "        'arithmetic_average': self.metrics_containter.arithmetic_average_score(data, compressed_data),\n",
    "        'standard_derivative': self.metrics_containter.standard_derivative_score(data, compressed_data),\n",
    "        'function_field': self.metrics_containter.function_field_score(data, compressed_data),\n",
    "        'diff_of_min': self.metrics_containter.diff_of_min_score(data, compressed_data),\n",
    "        'diff_of_max': self.metrics_containter.diff_of_max_score(data, compressed_data),\n",
    "        'min_max_diff': self.metrics_containter.min_max_diff_score(data, compressed_data),\n",
    "        'value_crossing': self.metrics_containter.value_crossing_score(data, compressed_data),\n",
    "        'positive_value_crossing': self.metrics_containter.positive_value_crossing_score(data, compressed_data),\n",
    "        'negative_value_crossing': self.metrics_containter.negative_value_crossing_score(data, compressed_data),\n",
    "        'peak_count': self.metrics_containter.peak_count_score(data, compressed_data),\n",
    "        'positive_peak_count': self.metrics_containter.positive_peak_count_score(data, compressed_data),\n",
    "        'negative_peak_count': self.metrics_containter.negative_peak_count_score(data, compressed_data),\n",
    "        'median': self.metrics_containter.median_score(data, compressed_data),\n",
    "        'covariance': self.metrics_containter.covariance_score(data, compressed_data),\n",
    "        'corelation_pearson': self.metrics_containter.corelation_pearson_score(data, compressed_data),\n",
    "        'corelation_spearman': self.metrics_containter.corelation_spearman_score(data, compressed_data),\n",
    "      }\n",
    "    # for key, metrics in metric_result.items():\n",
    "    #   print(key)\n",
    "    #   for name, value in metrics.items():\n",
    "    #     print(f\"\\t{name}:\\t{value}\")\n",
    "    agregated_metrics = dict()\n",
    "    for method_name, metrics_value in metric_result.items():\n",
    "      agregated_metrics[method_name] = sum(metrics_value.values())\n",
    "    sorted_methods = sorted(agregated_metrics.items(), key=lambda item: item[1])\n",
    "    # print(sorted_methods)\n",
    "    # todo: get best with the largest compress ratio\n",
    "    best_method_name = sorted_methods[0][0]\n",
    "    return self.compressors[best_method_name]\n",
    "\n",
    "AlgorythmSelector().get_best(measurements)"
   ]
  }
 ],
 "metadata": {
  "interpreter": {
   "hash": "8bd398a0bc678e25a207ab0ab4219855af91263f83e538b17778b9131e81637d"
  },
  "kernelspec": {
   "display_name": "Python 3.8.2 ('venv': venv)",
   "language": "python",
   "name": "python3"
  },
  "language_info": {
   "codemirror_mode": {
    "name": "ipython",
    "version": 3
   },
   "file_extension": ".py",
   "mimetype": "text/x-python",
   "name": "python",
   "nbconvert_exporter": "python",
   "pygments_lexer": "ipython3",
   "version": "3.8.9"
  },
  "orig_nbformat": 4
 },
 "nbformat": 4,
 "nbformat_minor": 2
}
