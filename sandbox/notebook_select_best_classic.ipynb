{
 "cells": [
  {
   "cell_type": "code",
   "execution_count": 1,
   "metadata": {},
   "outputs": [],
   "source": [
    "from src.signal_generator import SignalGenerator\n",
    "from src.metrics import Metric\n",
    "from src.data_type import Measurement\n",
    "import matplotlib.pyplot as plt\n",
    "from src.data_compressor.other import CompressNTHS\n",
    "from src.data_compressor.other import CompressMinMax\n",
    "from src.data_compressor.other import CompressPWP\n",
    "from src.data_compressor.pip import CompressPIP_ED\n",
    "from src.data_compressor.pip import CompressPIP_PD\n",
    "from src.data_compressor.pip import CompressPIP_VD\n",
    "from src.data_compressor.paa import CompressPAA\n",
    "from src.data_compressor.paa import CompressPAAVI\n",
    "from src.data_compressor.paa import CompressByChunk\n",
    "from src.data_compressor.pla import CompressAPCADFT\n",
    "from src.data_compressor.pla import CompressAPCAFFT\n",
    "from src.data_compressor.pla import CompressSTC\n",
    "from src.data_compressor.pla import CompressHigherDeriveration"
   ]
  },
  {
   "cell_type": "code",
   "execution_count": 2,
   "metadata": {},
   "outputs": [],
   "source": [
    "from src.data_type import Measurement\n",
    "from src.data_compressor.compressor import Compressor\n",
    "from typing import List, Dict\n",
    "from collections import defaultdict as dict"
   ]
  },
  {
   "cell_type": "code",
   "execution_count": 3,
   "metadata": {},
   "outputs": [],
   "source": [
    "signal_generator = SignalGenerator(0, 100).with_peaks(3).with_peaks(3, direction=-1).sin(0.2, 0.2)\n",
    "measurements = [Measurement(measurement, index * 100) for index, measurement in enumerate(signal_generator.data)]"
   ]
  },
  {
   "cell_type": "code",
   "execution_count": 4,
   "metadata": {},
   "outputs": [
    {
     "name": "stdout",
     "output_type": "stream",
     "text": [
      "CompressNTHS\n",
      "\tcompression_rate:\t0.35\n",
      "\tsum_differences:\t2.882062507135529\n",
      "\tarithmetic_average:\t0.02882062507135529\n",
      "\tstandard_derivative:\t0.08634639929437112\n",
      "CompressMinMax\n",
      "\tcompression_rate:\t0.5\n",
      "\tsum_differences:\t2.2588701404928253\n",
      "\tarithmetic_average:\t0.022588701404928253\n",
      "\tstandard_derivative:\t0.06289878759161126\n"
     ]
    },
    {
     "data": {
      "text/plain": [
       "<src.data_compressor.other.compress_nths.CompressNTHS at 0x11bb4aa8eb0>"
      ]
     },
     "execution_count": 4,
     "metadata": {},
     "output_type": "execute_result"
    }
   ],
   "source": [
    "class AlgorythmSelector:\n",
    "\n",
    "  def __init__(self) -> None:\n",
    "    self.metrics_containter = Metric()\n",
    "    self.compressors: Dict[str, Compressor] = {\n",
    "      'CompressNTHS': CompressNTHS(),\n",
    "      'CompressMinMax': CompressMinMax()\n",
    "    }\n",
    "\n",
    "  def set_metrics(self):\n",
    "    pass # todo\n",
    "  \n",
    "  def get_best(self, data: List[Measurement]):\n",
    "    metric_result = dict()\n",
    "    for name, compressor in self.compressors.items():\n",
    "      compressor.set_data(data)\n",
    "      compressor.compress()\n",
    "      compressed_data = compressor.compressed_data\n",
    "      metric_result[name] = {\n",
    "        'compression_rate': self.metrics_containter.compression_ratio(data, compressed_data),\n",
    "        'sum_differences': self.metrics_containter.sum_differences(data, compressed_data),\n",
    "        'arithmetic_average': self.metrics_containter.arithmetic_average(data, compressed_data),\n",
    "        'standard_derivative': self.metrics_containter.standard_derivative(data, compressed_data),\n",
    "      }\n",
    "    for key, metrics in metric_result.items():\n",
    "      print(key)\n",
    "      for name, value in metrics.items():\n",
    "        print(f\"\\t{name}:\\t{value}\")\n",
    "    return list(self.compressors.items())[0][1]\n",
    "\n",
    "AlgorythmSelector().get_best(measurements)"
   ]
  }
 ],
 "metadata": {
  "interpreter": {
   "hash": "8bd398a0bc678e25a207ab0ab4219855af91263f83e538b17778b9131e81637d"
  },
  "kernelspec": {
   "display_name": "Python 3.8.2 ('venv': venv)",
   "language": "python",
   "name": "python3"
  },
  "language_info": {
   "codemirror_mode": {
    "name": "ipython",
    "version": 3
   },
   "file_extension": ".py",
   "mimetype": "text/x-python",
   "name": "python",
   "nbconvert_exporter": "python",
   "pygments_lexer": "ipython3",
   "version": "3.9.1"
  },
  "orig_nbformat": 4
 },
 "nbformat": 4,
 "nbformat_minor": 2
}
