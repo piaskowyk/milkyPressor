{
 "cells": [
  {
   "cell_type": "code",
   "execution_count": 4,
   "metadata": {},
   "outputs": [],
   "source": [
    "from src.signal_generator import SignalGenerator\n",
    "from src.metrics import Metric\n",
    "from src.data_type import Measurement\n",
    "import matplotlib.pyplot as plt\n",
    "from src.data_compressor.other import CompressNTHS\n",
    "from src.data_compressor.other import CompressMinMax\n",
    "from src.data_compressor.other import CompressPWP\n",
    "from src.data_compressor.pip import CompressPIP_ED\n",
    "from src.data_compressor.pip import CompressPIP_PD\n",
    "from src.data_compressor.pip import CompressPIP_VD\n",
    "from src.data_compressor.paa import CompressPAA\n",
    "from src.data_compressor.paa import CompressPAAVI\n",
    "from src.data_compressor.paa import CompressByChunk\n",
    "from src.data_compressor.pla import CompressAPCADFT\n",
    "from src.data_compressor.pla import CompressAPCAFFT\n",
    "from src.data_compressor.pla import CompressSTC\n",
    "from src.data_compressor.pla import CompressHigherDeriveration\n",
    "from typing import List, Dict\n",
    "import json"
   ]
  },
  {
   "cell_type": "code",
   "execution_count": 2,
   "metadata": {},
   "outputs": [],
   "source": [
    "measurements = [\n",
    "  Measurement(5, 1000),\n",
    "  Measurement(3, 1100),\n",
    "  Measurement(2, 1200),\n",
    "]"
   ]
  },
  {
   "cell_type": "code",
   "execution_count": null,
   "metadata": {},
   "outputs": [],
   "source": [
    "class CBOR_Serializer:\n",
    "  def serialize(measurements: List[Measurement], a: int, b: int, c: int):\n",
    "    output = bytearray()\n",
    "    output.append(0xA1)\n",
    "    return output\n",
    "\n",
    "cbor_parser = CBOR_Serializer()\n",
    "print(cbor_parser.serialize(measurements))"
   ]
  },
  {
   "cell_type": "code",
   "execution_count": 11,
   "metadata": {},
   "outputs": [
    {
     "name": "stdout",
     "output_type": "stream",
     "text": [
      "[{\"bn\": \"/72/\", \"n\": \"1/2\", \"v\": 2, \"bt\": 1200, \"t\": 0}, {\"n\": \"1/2\", \"v\": 3, \"t\": -100}, {\"n\": \"1/2\", \"v\": 5, \"t\": -200}]\n"
     ]
    }
   ],
   "source": [
    "class SenML_JSON_Serializer:\n",
    "  def serialize(self, measurements: List[Measurement], bn_value: str, n_value: str) -> str:\n",
    "    output = []\n",
    "    values = [m.value for m in measurements]\n",
    "    timestamps = [m.timestamp for m in measurements]\n",
    "    data_size = len(values)\n",
    "    index = data_size - 1\n",
    "    base_time = timestamps[index]\n",
    "    output.append({\n",
    "      'bn': bn_value,\n",
    "      'n': n_value,\n",
    "      'v': values[index],\n",
    "      'bt': timestamps[index],\n",
    "      't': 0\n",
    "    })\n",
    "    index -= 1\n",
    "    while index > -1:\n",
    "      output.append({\n",
    "        'n': n_value,\n",
    "        'v': values[index],\n",
    "        't': timestamps[index] - base_time,\n",
    "      })\n",
    "      index -= 1\n",
    "    return json.dumps(output)\n",
    "\n",
    "senml_json_serializer = SenML_JSON_Serializer()\n",
    "print(senml_json_serializer.serialize(measurements, '/72/', '1/2'))"
   ]
  }
 ],
 "metadata": {
  "interpreter": {
   "hash": "8bd398a0bc678e25a207ab0ab4219855af91263f83e538b17778b9131e81637d"
  },
  "kernelspec": {
   "display_name": "Python 3.8.2 ('venv': venv)",
   "language": "python",
   "name": "python3"
  },
  "language_info": {
   "codemirror_mode": {
    "name": "ipython",
    "version": 3
   },
   "file_extension": ".py",
   "mimetype": "text/x-python",
   "name": "python",
   "nbconvert_exporter": "python",
   "pygments_lexer": "ipython3",
   "version": "3.8.9"
  },
  "orig_nbformat": 4
 },
 "nbformat": 4,
 "nbformat_minor": 2
}
