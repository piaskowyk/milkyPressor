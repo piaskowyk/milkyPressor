{
 "cells": [
  {
   "cell_type": "code",
   "execution_count": 8,
   "metadata": {},
   "outputs": [],
   "source": [
    "import time\n",
    "from src.method_selector import MlMethodSelector, ClassicMethodSelector\n",
    "from src.measurement_provider import MeasurementProvider\n",
    "from src.serializer import SenMLCBORSerializer, SenMLJSONSerializer\n",
    "from src.signal_generator import SignalGenerator\n",
    "from sys import getsizeof\n",
    "from src.metric import FeatureMetricEnum, SimilarityMetricEnum"
   ]
  },
  {
   "cell_type": "code",
   "execution_count": 11,
   "metadata": {},
   "outputs": [
    {
     "name": "stdout",
     "output_type": "stream",
     "text": [
      "0.3333333333333333\n",
      "0.7333333333333334\n"
     ]
    }
   ],
   "source": [
    "scores_1 = []\n",
    "scores_2 = []\n",
    "\n",
    "for i in range(4):\n",
    "  measurement_provider = MeasurementProvider()\n",
    "  # dataset = [measurement_provider.json_to_measurements('airlines.json')]\n",
    "  dataset = measurement_provider.get_random3()\n",
    "  ml_method_selector = MlMethodSelector()\n",
    "  # ml_method_selector.use_default_strategy([\n",
    "  #   SimilarityMetricEnum.arithmetic_average,\n",
    "  #   SimilarityMetricEnum.median,\n",
    "  #   SimilarityMetricEnum.covariance,\n",
    "  # ])\n",
    "  ml_method_selector.set_measurements(dataset)\n",
    "  score_1, score_2 = ml_method_selector.train()\n",
    "  scores_1.append(score_1)\n",
    "  scores_2.append(score_2)\n",
    "\n",
    "print(sum(scores_1) / len(scores_1))\n",
    "print(sum(scores_2) / len(scores_2))"
   ]
  }
 ],
 "metadata": {
  "interpreter": {
   "hash": "617200769ce879efa1ebdc3ebfdf1b30a3a751f12c1f5537e4552fa514699a70"
  },
  "kernelspec": {
   "display_name": "Python 3.8.9 ('venv': venv)",
   "language": "python",
   "name": "python3"
  },
  "language_info": {
   "codemirror_mode": {
    "name": "ipython",
    "version": 3
   },
   "file_extension": ".py",
   "mimetype": "text/x-python",
   "name": "python",
   "nbconvert_exporter": "python",
   "pygments_lexer": "ipython3",
   "version": "3.8.9"
  },
  "orig_nbformat": 4
 },
 "nbformat": 4,
 "nbformat_minor": 2
}
