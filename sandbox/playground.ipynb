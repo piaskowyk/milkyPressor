{
 "cells": [
  {
   "cell_type": "code",
   "execution_count": 11,
   "metadata": {},
   "outputs": [],
   "source": [
    "from typing import List\n",
    "from src.data_type import Measurement\n",
    "import json"
   ]
  },
  {
   "cell_type": "code",
   "execution_count": 12,
   "metadata": {},
   "outputs": [],
   "source": [
    "measurements = [\n",
    "  Measurement(5, 1000),\n",
    "  Measurement(3, 1100),\n",
    "  Measurement(2, 1200),\n",
    "]"
   ]
  },
  {
   "cell_type": "code",
   "execution_count": 16,
   "metadata": {},
   "outputs": [],
   "source": [
    "from senml import senml"
   ]
  },
  {
   "cell_type": "code",
   "execution_count": 23,
   "metadata": {},
   "outputs": [
    {
     "data": {
      "text/plain": [
       "[{'bver': 5,\n",
       "  'bn': 'urn:dev:mac:0b92569229fc9e68/rpm/',\n",
       "  'bt': 1234567890.123,\n",
       "  'bu': '1/min',\n",
       "  'n': 'fwd',\n",
       "  't': 5.0,\n",
       "  's': 3.0,\n",
       "  'v': 17.666544},\n",
       " {'n': 'rev', 't': 7.0, 's': 4.0, 'v': 123.456},\n",
       " {'n': 'bool', 't': 1.0, 'vb': True},\n",
       " {'n': 'str', 't': 2.0, 'vs': 'hej'}]"
      ]
     },
     "execution_count": 23,
     "metadata": {},
     "output_type": "execute_result"
    }
   ],
   "source": [
    "json_object = json.loads('''\n",
    "[\n",
    "{\n",
    "    \"bn\":\"urn:dev:mac:0b92569229fc9e68/rpm/\",\n",
    "    \"bt\":1234567890.123,\n",
    "    \"bu\":\"1/min\",\n",
    "    \"bver\":5,\n",
    "    \"n\":\"fwd\",\n",
    "    \"v\":17.666544,\n",
    "    \"s\":3,\n",
    "    \"t\":5\n",
    "},\n",
    "{\n",
    "    \"n\":\"rev\",\n",
    "    \"v\":123.456,\n",
    "    \"s\":4,\n",
    "    \"t\":7\n",
    "},\n",
    "{\n",
    "    \"n\":\"bool\",\n",
    "    \"vb\":true,\n",
    "    \"t\":1\n",
    "},\n",
    "{\n",
    "    \"n\":\"str\",\n",
    "    \"vs\":\"hej\",\n",
    "    \"t\":2\n",
    "}\n",
    "]\n",
    "''')\n",
    "doc = senml.SenMLDocument.from_json(json_object)\n",
    "doc\n",
    "senml.SenMLDocument.to_json(doc)"
   ]
  },
  {
   "cell_type": "code",
   "execution_count": 39,
   "metadata": {},
   "outputs": [
    {
     "name": "stdout",
     "output_type": "stream",
     "text": [
      "b'\\x81\\xa4\\x00c1/2\\x02\\x19\\x01\\xfa\\x06\\x01!c/72'\n",
      "[{0: '1/2', 2: 506, 6: 1, -2: '/72'}]\n"
     ]
    }
   ],
   "source": [
    "from kpn_senml import *\n",
    "import random\n",
    "import cbor2\n",
    "\n",
    "pack = SenmlPack('/72')\n",
    "pack.add(SenmlRecord(\"1/2\", value=random.randint(0,1000), time=1))\n",
    "cbor_val = pack.to_cbor()\n",
    "print(cbor_val)\n",
    "print(cbor2.loads(cbor_val))"
   ]
  },
  {
   "cell_type": "code",
   "execution_count": 13,
   "metadata": {},
   "outputs": [
    {
     "ename": "TypeError",
     "evalue": "serialize() missing 2 required positional arguments: 'b' and 'c'",
     "output_type": "error",
     "traceback": [
      "\u001b[1;31m---------------------------------------------------------------------------\u001b[0m",
      "\u001b[1;31mTypeError\u001b[0m                                 Traceback (most recent call last)",
      "\u001b[1;32m~\\AppData\\Local\\Temp/ipykernel_14996/2928166329.py\u001b[0m in \u001b[0;36m<module>\u001b[1;34m\u001b[0m\n\u001b[0;32m      6\u001b[0m \u001b[1;33m\u001b[0m\u001b[0m\n\u001b[0;32m      7\u001b[0m \u001b[0mcbor_parser\u001b[0m \u001b[1;33m=\u001b[0m \u001b[0mCBOR_Serializer\u001b[0m\u001b[1;33m(\u001b[0m\u001b[1;33m)\u001b[0m\u001b[1;33m\u001b[0m\u001b[1;33m\u001b[0m\u001b[0m\n\u001b[1;32m----> 8\u001b[1;33m \u001b[0mprint\u001b[0m\u001b[1;33m(\u001b[0m\u001b[0mcbor_parser\u001b[0m\u001b[1;33m.\u001b[0m\u001b[0mserialize\u001b[0m\u001b[1;33m(\u001b[0m\u001b[0mmeasurements\u001b[0m\u001b[1;33m)\u001b[0m\u001b[1;33m)\u001b[0m\u001b[1;33m\u001b[0m\u001b[1;33m\u001b[0m\u001b[0m\n\u001b[0m",
      "\u001b[1;31mTypeError\u001b[0m: serialize() missing 2 required positional arguments: 'b' and 'c'"
     ]
    }
   ],
   "source": [
    "class CBOR_Serializer:\n",
    "  def serialize(measurements: List[Measurement], a: int, b: int, c: int):\n",
    "    output = bytearray()\n",
    "    output.append(0xA1)\n",
    "    return output\n",
    "\n",
    "cbor_parser = CBOR_Serializer()\n",
    "print(cbor_parser.serialize(measurements))"
   ]
  },
  {
   "cell_type": "code",
   "execution_count": null,
   "metadata": {},
   "outputs": [
    {
     "name": "stdout",
     "output_type": "stream",
     "text": [
      "[{\"bn\": \"/72/\", \"n\": \"1/2\", \"v\": 2, \"bt\": 1200, \"t\": 0}, {\"n\": \"1/2\", \"v\": 3, \"t\": -100}, {\"n\": \"1/2\", \"v\": 5, \"t\": -200}]\n"
     ]
    }
   ],
   "source": [
    "class SenML_JSON_Serializer:\n",
    "  def serialize(self, measurements: List[Measurement], bn_value: str, n_value: str) -> str:\n",
    "    output = []\n",
    "    values = [m.value for m in measurements]\n",
    "    timestamps = [m.timestamp for m in measurements]\n",
    "    data_size = len(values)\n",
    "    index = data_size - 1\n",
    "    base_time = timestamps[index]\n",
    "    output.append({\n",
    "      'bn': bn_value,\n",
    "      'n': n_value,\n",
    "      'v': values[index],\n",
    "      'bt': timestamps[index],\n",
    "      't': 0\n",
    "    })\n",
    "    index -= 1\n",
    "    while index > -1:\n",
    "      output.append({\n",
    "        'n': n_value,\n",
    "        'v': values[index],\n",
    "        't': timestamps[index] - base_time,\n",
    "      })\n",
    "      index -= 1\n",
    "    return json.dumps(output)\n",
    "\n",
    "senml_json_serializer = SenML_JSON_Serializer()\n",
    "print(senml_json_serializer.serialize(measurements, '/72/', '1/2'))"
   ]
  }
 ],
 "metadata": {
  "interpreter": {
   "hash": "8bd398a0bc678e25a207ab0ab4219855af91263f83e538b17778b9131e81637d"
  },
  "kernelspec": {
   "display_name": "Python 3.8.2 ('venv': venv)",
   "language": "python",
   "name": "python3"
  },
  "language_info": {
   "codemirror_mode": {
    "name": "ipython",
    "version": 3
   },
   "file_extension": ".py",
   "mimetype": "text/x-python",
   "name": "python",
   "nbconvert_exporter": "python",
   "pygments_lexer": "ipython3",
   "version": "3.9.1"
  },
  "orig_nbformat": 4
 },
 "nbformat": 4,
 "nbformat_minor": 2
}
