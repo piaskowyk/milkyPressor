{
 "cells": [
  {
   "cell_type": "code",
   "execution_count": 55,
   "metadata": {},
   "outputs": [],
   "source": [
    "import math\n",
    "import matplotlib.pyplot as plt\n",
    "import random"
   ]
  },
  {
   "cell_type": "code",
   "execution_count": 106,
   "metadata": {},
   "outputs": [],
   "source": [
    "class SignalGenerator:\n",
    "    x_start: int = 0\n",
    "    x_end: int = 100\n",
    "    data: list[float] = []\n",
    "    x_list: list[int] = []\n",
    "    file_name: str = \"out.txt\"\n",
    "\n",
    "    def __init__(self, x_start: int = 0, x_end: int = 100) -> None:\n",
    "        self.x_start = x_start\n",
    "        self.x_end = x_end\n",
    "        self.set_x_list(x_start, x_end)\n",
    "\n",
    "    def set_x_list(self, x_start: int, x_end: int):\n",
    "        self.x_list = [x for x in range(self.x_start, self.x_end)]\n",
    "\n",
    "    def sin(self, a: float = 1, b: float = 1) -> list[float]:\n",
    "        self.data = [a * math.sin(x * b) for x in self.x_list]\n",
    "\n",
    "    def square_vawe(self, frequency: int = 10, height: int = 1):\n",
    "        self.data = [height if (x % frequency) >= (frequency / 2) else 0 for x in self.x_list]\n",
    "\n",
    "    def triangle_vawe(self, p: float = 50):\n",
    "        self.data = [2 * math.fabs((x / p) - math.floor((x / p) + 0.5)) for x in self.x_list]\n",
    "\n",
    "    def noise(self, y_min: float = -1, y_max: float = 1):\n",
    "        self.data = [random.uniform(y_min, y_max) for _ in self.x_list]\n",
    "\n",
    "    def linear(self, a: float = 1, b: float = 1):\n",
    "        self.data = [a * x + b for x in self.x_list]\n",
    "\n",
    "    def const(self, value = 0) -> list[float]:\n",
    "        self.data = [value for _ in self.x_list]\n",
    "\n",
    "    def with_peaks(self):\n",
    "        pass # todo\n",
    "    def time_series(self):\n",
    "        pass # todo\n",
    "    def from_function(self, function):\n",
    "        pass # todo\n",
    "    def apply_noise(data):\n",
    "        pass # todo\n",
    "\n",
    "    def toFile(self):\n",
    "        with open(self.file_name, 'w') as file:\n",
    "            file.write(','.join(self.data))\n",
    "\n",
    "    def draw(self):\n",
    "        plt.plot(self.x_list, self.data)\n",
    "        plt.show()"
   ]
  },
  {
   "cell_type": "code",
   "execution_count": 107,
   "metadata": {},
   "outputs": [
    {
     "data": {
      "image/png": "[encoded data removed]",
      "text/plain": [
       "<Figure size 432x288 with 1 Axes>"
      ]
     },
     "metadata": {
      "needs_background": "light"
     },
     "output_type": "display_data"
    }
   ],
   "source": [
    "signal_generator = SignalGenerator()\n",
    "signal_generator.triangle_vawe()\n",
    "signal_generator.draw()"
   ]
  }
 ],
 "metadata": {
  "interpreter": {
   "hash": "c2ac36ba0c970e5d5d5f3d0bcc0d37acbfde7aff54eb659a62754192ac37a665"
  },
  "kernelspec": {
   "display_name": "Python 3.9.1 64-bit ('venv': venv)",
   "language": "python",
   "name": "python3"
  },
  "language_info": {
   "codemirror_mode": {
    "name": "ipython",
    "version": 3
   },
   "file_extension": ".py",
   "mimetype": "text/x-python",
   "name": "python",
   "nbconvert_exporter": "python",
   "pygments_lexer": "ipython3",
   "version": "3.9.1"
  },
  "orig_nbformat": 4
 },
 "nbformat": 4,
 "nbformat_minor": 2
}
