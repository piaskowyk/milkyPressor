{
 "cells": [
  {
   "cell_type": "code",
   "execution_count": 107,
   "metadata": {},
   "outputs": [],
   "source": [
    "import pandas as pd\n",
    "import time\n",
    "import datetime\n",
    "import json\n",
    "import math"
   ]
  },
  {
   "cell_type": "code",
   "execution_count": 108,
   "metadata": {},
   "outputs": [],
   "source": [
    "path_raw = '../../datasets/raw/'\n",
    "path_parsed = '../../datasets/parsed/'"
   ]
  },
  {
   "cell_type": "code",
   "execution_count": 109,
   "metadata": {},
   "outputs": [
    {
     "name": "stderr",
     "output_type": "stream",
     "text": [
      "C:\\Users\\mleko\\AppData\\Local\\Temp/ipykernel_9108/2531875826.py:1: DtypeWarning: Columns (2) have mixed types. Specify dtype option on import or set low_memory=False.\n",
      "  df = pd.read_csv(path_raw + 'temperature.csv')\n"
     ]
    }
   ],
   "source": [
    "df = pd.read_csv(path_raw + 'temperature.csv')"
   ]
  },
  {
   "cell_type": "code",
   "execution_count": 110,
   "metadata": {},
   "outputs": [],
   "source": [
    "result = []\n",
    "for item in df[df['City'] == 'Algiers'].iterrows():\n",
    "  data = item[1]\n",
    "  time_str = f\"{data[5]}/{data[4]}/{data[6]}\"\n",
    "  timestamp = time.mktime(datetime.datetime.strptime(time_str, \"%d/%m/%Y\").timetuple())\n",
    "  result.append({\n",
    "    'value': float(data[7]),\n",
    "    'timestamp': int(timestamp)\n",
    "  })\n",
    "with open(f'{path_parsed}temperature.json', 'w') as file:\n",
    "  json.dump(result, file)"
   ]
  },
  {
   "cell_type": "code",
   "execution_count": 111,
   "metadata": {},
   "outputs": [],
   "source": [
    "stock_name = 'stock1'\n",
    "with open(f'{path_raw}{stock_name}.json', 'r') as file:\n",
    "  json_object = json.load(file)\n",
    "timestamps = json_object['chart']['result'][0]['timestamp']\n",
    "values = json_object['chart']['result'][0]['indicators']['adjclose'][0]['adjclose']\n",
    "\n",
    "result = []\n",
    "for i in range(len(timestamps)):\n",
    "  result.append({\n",
    "    'value': values[i],\n",
    "    'timestamp': timestamps[i]\n",
    "  })\n",
    "with open(f'{path_parsed}{stock_name}.json', 'w') as file:\n",
    "  json.dump(result, file)"
   ]
  },
  {
   "cell_type": "code",
   "execution_count": 112,
   "metadata": {},
   "outputs": [],
   "source": [
    "df = pd.read_csv(path_raw + 'car_engine.csv')"
   ]
  },
  {
   "cell_type": "code",
   "execution_count": 113,
   "metadata": {},
   "outputs": [],
   "source": [
    "result = []\n",
    "xs = df['0.000213']\n",
    "ys = df['0.060972']\n",
    "for i in range(len(df)):\n",
    "  result.append({\n",
    "    'value': math.sqrt(xs[i]**2 + ys[i]**2),\n",
    "    'timestamp': i * 10\n",
    "  })\n",
    "with open(f'{path_parsed}car_engine.json', 'w') as file:\n",
    "  json.dump(result, file)"
   ]
  },
  {
   "cell_type": "code",
   "execution_count": 114,
   "metadata": {},
   "outputs": [],
   "source": [
    "df = pd.read_csv(path_raw + 'airlines.csv')"
   ]
  },
  {
   "cell_type": "code",
   "execution_count": 115,
   "metadata": {},
   "outputs": [],
   "source": [
    "result = []\n",
    "for item in df.groupby(['Year', 'Month', 'DayofMonth']).sum().iterrows():\n",
    "  data = item[0]\n",
    "  time_str = f\"{data[2]}/{data[1]}/{data[0]}\"\n",
    "  timestamp = time.mktime(datetime.datetime.strptime(time_str, \"%d/%m/%Y\").timetuple())\n",
    "  result.append({\n",
    "    'value': item[1][10],\n",
    "    'timestamp': int(timestamp)\n",
    "  })\n",
    "with open(f'{path_parsed}airlines.json', 'w') as file:\n",
    "  json.dump(result, file)"
   ]
  }
 ],
 "metadata": {
  "interpreter": {
   "hash": "c2ac36ba0c970e5d5d5f3d0bcc0d37acbfde7aff54eb659a62754192ac37a665"
  },
  "kernelspec": {
   "display_name": "Python 3.9.1 64-bit ('venv': venv)",
   "language": "python",
   "name": "python3"
  },
  "language_info": {
   "codemirror_mode": {
    "name": "ipython",
    "version": 3
   },
   "file_extension": ".py",
   "mimetype": "text/x-python",
   "name": "python",
   "nbconvert_exporter": "python",
   "pygments_lexer": "ipython3",
   "version": "3.9.1"
  },
  "orig_nbformat": 4
 },
 "nbformat": 4,
 "nbformat_minor": 2
}
